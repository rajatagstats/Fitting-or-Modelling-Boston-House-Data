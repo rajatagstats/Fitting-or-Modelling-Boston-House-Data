{
 "cells": [
  {
   "cell_type": "code",
   "execution_count": 394,
   "metadata": {},
   "outputs": [
    {
     "data": {
      "text/html": [
       "<table>\n",
       "<thead><tr><th scope=col>crim</th><th scope=col>zn</th><th scope=col>indus</th><th scope=col>chas</th><th scope=col>nox</th><th scope=col>rm</th><th scope=col>age</th><th scope=col>dis</th><th scope=col>rad</th><th scope=col>tax</th><th scope=col>ptratio</th><th scope=col>black</th><th scope=col>lstat</th><th scope=col>medv</th></tr></thead>\n",
       "<tbody>\n",
       "\t<tr><td>0.00632</td><td>18     </td><td>2.31   </td><td>0      </td><td>0.538  </td><td>6.575  </td><td>65.2   </td><td>4.0900 </td><td>1      </td><td>296    </td><td>15.3   </td><td>396.90 </td><td>4.98   </td><td>24.0   </td></tr>\n",
       "\t<tr><td>0.02731</td><td> 0     </td><td>7.07   </td><td>0      </td><td>0.469  </td><td>6.421  </td><td>78.9   </td><td>4.9671 </td><td>2      </td><td>242    </td><td>17.8   </td><td>396.90 </td><td>9.14   </td><td>21.6   </td></tr>\n",
       "\t<tr><td>0.02729</td><td> 0     </td><td>7.07   </td><td>0      </td><td>0.469  </td><td>7.185  </td><td>61.1   </td><td>4.9671 </td><td>2      </td><td>242    </td><td>17.8   </td><td>392.83 </td><td>4.03   </td><td>34.7   </td></tr>\n",
       "\t<tr><td>0.03237</td><td> 0     </td><td>2.18   </td><td>0      </td><td>0.458  </td><td>6.998  </td><td>45.8   </td><td>6.0622 </td><td>3      </td><td>222    </td><td>18.7   </td><td>394.63 </td><td>2.94   </td><td>33.4   </td></tr>\n",
       "\t<tr><td>0.06905</td><td> 0     </td><td>2.18   </td><td>0      </td><td>0.458  </td><td>7.147  </td><td>54.2   </td><td>6.0622 </td><td>3      </td><td>222    </td><td>18.7   </td><td>396.90 </td><td>5.33   </td><td>36.2   </td></tr>\n",
       "\t<tr><td>0.02985</td><td> 0     </td><td>2.18   </td><td>0      </td><td>0.458  </td><td>6.430  </td><td>58.7   </td><td>6.0622 </td><td>3      </td><td>222    </td><td>18.7   </td><td>394.12 </td><td>5.21   </td><td>28.7   </td></tr>\n",
       "</tbody>\n",
       "</table>\n"
      ],
      "text/latex": [
       "\\begin{tabular}{r|llllllllllllll}\n",
       " crim & zn & indus & chas & nox & rm & age & dis & rad & tax & ptratio & black & lstat & medv\\\\\n",
       "\\hline\n",
       "\t 0.00632 & 18      & 2.31    & 0       & 0.538   & 6.575   & 65.2    & 4.0900  & 1       & 296     & 15.3    & 396.90  & 4.98    & 24.0   \\\\\n",
       "\t 0.02731 &  0      & 7.07    & 0       & 0.469   & 6.421   & 78.9    & 4.9671  & 2       & 242     & 17.8    & 396.90  & 9.14    & 21.6   \\\\\n",
       "\t 0.02729 &  0      & 7.07    & 0       & 0.469   & 7.185   & 61.1    & 4.9671  & 2       & 242     & 17.8    & 392.83  & 4.03    & 34.7   \\\\\n",
       "\t 0.03237 &  0      & 2.18    & 0       & 0.458   & 6.998   & 45.8    & 6.0622  & 3       & 222     & 18.7    & 394.63  & 2.94    & 33.4   \\\\\n",
       "\t 0.06905 &  0      & 2.18    & 0       & 0.458   & 7.147   & 54.2    & 6.0622  & 3       & 222     & 18.7    & 396.90  & 5.33    & 36.2   \\\\\n",
       "\t 0.02985 &  0      & 2.18    & 0       & 0.458   & 6.430   & 58.7    & 6.0622  & 3       & 222     & 18.7    & 394.12  & 5.21    & 28.7   \\\\\n",
       "\\end{tabular}\n"
      ],
      "text/markdown": [
       "\n",
       "| crim | zn | indus | chas | nox | rm | age | dis | rad | tax | ptratio | black | lstat | medv |\n",
       "|---|---|---|---|---|---|---|---|---|---|---|---|---|---|\n",
       "| 0.00632 | 18      | 2.31    | 0       | 0.538   | 6.575   | 65.2    | 4.0900  | 1       | 296     | 15.3    | 396.90  | 4.98    | 24.0    |\n",
       "| 0.02731 |  0      | 7.07    | 0       | 0.469   | 6.421   | 78.9    | 4.9671  | 2       | 242     | 17.8    | 396.90  | 9.14    | 21.6    |\n",
       "| 0.02729 |  0      | 7.07    | 0       | 0.469   | 7.185   | 61.1    | 4.9671  | 2       | 242     | 17.8    | 392.83  | 4.03    | 34.7    |\n",
       "| 0.03237 |  0      | 2.18    | 0       | 0.458   | 6.998   | 45.8    | 6.0622  | 3       | 222     | 18.7    | 394.63  | 2.94    | 33.4    |\n",
       "| 0.06905 |  0      | 2.18    | 0       | 0.458   | 7.147   | 54.2    | 6.0622  | 3       | 222     | 18.7    | 396.90  | 5.33    | 36.2    |\n",
       "| 0.02985 |  0      | 2.18    | 0       | 0.458   | 6.430   | 58.7    | 6.0622  | 3       | 222     | 18.7    | 394.12  | 5.21    | 28.7    |\n",
       "\n"
      ],
      "text/plain": [
       "  crim    zn indus chas nox   rm    age  dis    rad tax ptratio black  lstat\n",
       "1 0.00632 18 2.31  0    0.538 6.575 65.2 4.0900 1   296 15.3    396.90 4.98 \n",
       "2 0.02731  0 7.07  0    0.469 6.421 78.9 4.9671 2   242 17.8    396.90 9.14 \n",
       "3 0.02729  0 7.07  0    0.469 7.185 61.1 4.9671 2   242 17.8    392.83 4.03 \n",
       "4 0.03237  0 2.18  0    0.458 6.998 45.8 6.0622 3   222 18.7    394.63 2.94 \n",
       "5 0.06905  0 2.18  0    0.458 7.147 54.2 6.0622 3   222 18.7    396.90 5.33 \n",
       "6 0.02985  0 2.18  0    0.458 6.430 58.7 6.0622 3   222 18.7    394.12 5.21 \n",
       "  medv\n",
       "1 24.0\n",
       "2 21.6\n",
       "3 34.7\n",
       "4 33.4\n",
       "5 36.2\n",
       "6 28.7"
      ]
     },
     "metadata": {},
     "output_type": "display_data"
    }
   ],
   "source": [
    "library(MASS)  # library including the Boston datasets\n",
    "data<-as.matrix(Boston)\n",
    "head(data)"
   ]
  },
  {
   "cell_type": "code",
   "execution_count": 395,
   "metadata": {},
   "outputs": [
    {
     "name": "stdout",
     "output_type": "stream",
     "text": [
      " num [1:506, 1:14] 0.00632 0.02731 0.02729 0.03237 0.06905 ...\n",
      " - attr(*, \"dimnames\")=List of 2\n",
      "  ..$ : chr [1:506] \"1\" \"2\" \"3\" \"4\" ...\n",
      "  ..$ : chr [1:14] \"crim\" \"zn\" \"indus\" \"chas\" ...\n"
     ]
    }
   ],
   "source": [
    "#Structure of dataset\n",
    "str(data) "
   ]
  },
  {
   "cell_type": "code",
   "execution_count": 396,
   "metadata": {},
   "outputs": [
    {
     "data": {
      "text/html": [
       "506"
      ],
      "text/latex": [
       "506"
      ],
      "text/markdown": [
       "506"
      ],
      "text/plain": [
       "[1] 506"
      ]
     },
     "metadata": {},
     "output_type": "display_data"
    }
   ],
   "source": [
    "#Dividing the columns of data in Y(as response) and X(as predictor)\n",
    "Y=data[,ncol(data)]    #Response\n",
    "#Number of obserbvation's in respose \n",
    "length(Y)\n",
    "X=data[,-ncol(data)]   #Predictor Matrix"
   ]
  },
  {
   "cell_type": "code",
   "execution_count": 397,
   "metadata": {},
   "outputs": [
    {
     "data": {
      "text/html": [
       "<ol class=list-inline>\n",
       "\t<li>506</li>\n",
       "\t<li>14</li>\n",
       "</ol>\n"
      ],
      "text/latex": [
       "\\begin{enumerate*}\n",
       "\\item 506\n",
       "\\item 14\n",
       "\\end{enumerate*}\n"
      ],
      "text/markdown": [
       "1. 506\n",
       "2. 14\n",
       "\n",
       "\n"
      ],
      "text/plain": [
       "[1] 506  14"
      ]
     },
     "metadata": {},
     "output_type": "display_data"
    }
   ],
   "source": [
    "#Predictor matrix including intercept term\n",
    "X=cbind(rep(1,nrow(X)),X) \n",
    "#dimension of predictor matrix \n",
    "dim(X)\n",
    "colnames(X)[1]=\"intercept\"\n",
    "#standardising the regressor of datasets\n",
    "for(i in 2:ncol(X))\n",
    "{\n",
    "  X[,i]=(X[,i]-mean(X[,i]))/sd(X[,i])\n",
    "}\n",
    "# set.seed() will help to select the same random sample  whenever  we select a random #sample from data\n",
    "set.seed(52)\n",
    "#Selecting 100 random sample from total observation\n",
    "indices=sample(1:nrow(data),replace=FALSE,100)\n",
    "j=which(colnames(X)==\"zn\")\n",
    "k=which(colnames(X)==\"chas\")\n",
    "l=which(colnames(X)==\"rad\")\n",
    "#removing columns of ZN,CHAS,RAD from X(Predictor matrix) \n",
    "X=X[,-c(j,k,l)]  "
   ]
  },
  {
   "cell_type": "code",
   "execution_count": 398,
   "metadata": {},
   "outputs": [
    {
     "data": {
      "text/html": [
       "<ol class=list-inline>\n",
       "\t<li>406</li>\n",
       "\t<li>11</li>\n",
       "</ol>\n"
      ],
      "text/latex": [
       "\\begin{enumerate*}\n",
       "\\item 406\n",
       "\\item 11\n",
       "\\end{enumerate*}\n"
      ],
      "text/markdown": [
       "1. 406\n",
       "2. 11\n",
       "\n",
       "\n"
      ],
      "text/plain": [
       "[1] 406  11"
      ]
     },
     "metadata": {},
     "output_type": "display_data"
    },
    {
     "data": {
      "text/html": [
       "406"
      ],
      "text/latex": [
       "406"
      ],
      "text/markdown": [
       "406"
      ],
      "text/plain": [
       "[1] 406"
      ]
     },
     "metadata": {},
     "output_type": "display_data"
    },
    {
     "data": {
      "text/html": [
       "<ol class=list-inline>\n",
       "\t<li>100</li>\n",
       "\t<li>11</li>\n",
       "</ol>\n"
      ],
      "text/latex": [
       "\\begin{enumerate*}\n",
       "\\item 100\n",
       "\\item 11\n",
       "\\end{enumerate*}\n"
      ],
      "text/markdown": [
       "1. 100\n",
       "2. 11\n",
       "\n",
       "\n"
      ],
      "text/plain": [
       "[1] 100  11"
      ]
     },
     "metadata": {},
     "output_type": "display_data"
    },
    {
     "data": {
      "text/html": [
       "100"
      ],
      "text/latex": [
       "100"
      ],
      "text/markdown": [
       "100"
      ],
      "text/plain": [
       "[1] 100"
      ]
     },
     "metadata": {},
     "output_type": "display_data"
    }
   ],
   "source": [
    "# Setting up  training set(406 observation) and test set(100 observation) data Selected from whole data\n",
    "Y_train=(Y[-indices])\n",
    "X_train=(X[-indices,])\n",
    "#observations in train datasets\n",
    "dim(X_train);length(Y_train)\n",
    "Y_test=Y[indices]\n",
    "X_test=(X[indices,])\n",
    "#observation in test dataset\n",
    "dim(X_test);length(Y_test)"
   ]
  },
  {
   "cell_type": "code",
   "execution_count": 399,
   "metadata": {},
   "outputs": [
    {
     "data": {
      "text/html": [
       "1.03616913136241e+26"
      ],
      "text/latex": [
       "1.03616913136241e+26"
      ],
      "text/markdown": [
       "1.03616913136241e+26"
      ],
      "text/plain": [
       "[1] 1.036169e+26"
      ]
     },
     "metadata": {},
     "output_type": "display_data"
    }
   ],
   "source": [
    "det(t(X_train)%*%X_train)\n",
    "#determinant of (t(X_train)%*%X_train) is not zero . \n",
    "#Hence we conclude the matrix is full column rank matrix"
   ]
  },
  {
   "cell_type": "code",
   "execution_count": 400,
   "metadata": {},
   "outputs": [
    {
     "data": {
      "text/html": [
       "<table>\n",
       "<tbody>\n",
       "\t<tr><th scope=row>intercept</th><td>22.3175204</td></tr>\n",
       "\t<tr><th scope=row>crim</th><td>-0.3813723</td></tr>\n",
       "\t<tr><th scope=row>indus</th><td>-0.7324612</td></tr>\n",
       "\t<tr><th scope=row>nox</th><td>-1.6718780</td></tr>\n",
       "\t<tr><th scope=row>rm</th><td> 2.4131685</td></tr>\n",
       "\t<tr><th scope=row>age</th><td>-0.2408388</td></tr>\n",
       "\t<tr><th scope=row>dis</th><td>-2.4910960</td></tr>\n",
       "\t<tr><th scope=row>tax</th><td> 0.3467440</td></tr>\n",
       "\t<tr><th scope=row>ptratio</th><td>-2.1871680</td></tr>\n",
       "\t<tr><th scope=row>black</th><td> 0.6728200</td></tr>\n",
       "\t<tr><th scope=row>lstat</th><td>-3.7625047</td></tr>\n",
       "</tbody>\n",
       "</table>\n"
      ],
      "text/latex": [
       "\\begin{tabular}{r|l}\n",
       "\tintercept & 22.3175204\\\\\n",
       "\tcrim & -0.3813723\\\\\n",
       "\tindus & -0.7324612\\\\\n",
       "\tnox & -1.6718780\\\\\n",
       "\trm &  2.4131685\\\\\n",
       "\tage & -0.2408388\\\\\n",
       "\tdis & -2.4910960\\\\\n",
       "\ttax &  0.3467440\\\\\n",
       "\tptratio & -2.1871680\\\\\n",
       "\tblack &  0.6728200\\\\\n",
       "\tlstat & -3.7625047\\\\\n",
       "\\end{tabular}\n"
      ],
      "text/markdown": [
       "\n",
       "| intercept | 22.3175204 |\n",
       "| crim | -0.3813723 |\n",
       "| indus | -0.7324612 |\n",
       "| nox | -1.6718780 |\n",
       "| rm |  2.4131685 |\n",
       "| age | -0.2408388 |\n",
       "| dis | -2.4910960 |\n",
       "| tax |  0.3467440 |\n",
       "| ptratio | -2.1871680 |\n",
       "| black |  0.6728200 |\n",
       "| lstat | -3.7625047 |\n",
       "\n"
      ],
      "text/plain": [
       "          [,1]      \n",
       "intercept 22.3175204\n",
       "crim      -0.3813723\n",
       "indus     -0.7324612\n",
       "nox       -1.6718780\n",
       "rm         2.4131685\n",
       "age       -0.2408388\n",
       "dis       -2.4910960\n",
       "tax        0.3467440\n",
       "ptratio   -2.1871680\n",
       "black      0.6728200\n",
       "lstat     -3.7625047"
      ]
     },
     "metadata": {},
     "output_type": "display_data"
    },
    {
     "name": "stdout",
     "output_type": "stream",
     "text": [
      "RMSE value for model is  5.9042"
     ]
    }
   ],
   "source": [
    "beta_hat=solve(t(X_train)%*%X_train)%*%t(X_train)%*%Y_train\n",
    "beta_hat \n",
    "# estimated value of the  mean housing price of testing data \n",
    "Y_test_cap=X_test%*%beta_hat          \n",
    "#RMSE Value of the testing the datasets\n",
    "RMSE=sqrt(sum((Y_test-Y_test_cap)^2))/sqrt(length(Y_test))\n",
    "cat(\"RMSE value for model is \",RMSE)"
   ]
  },
  {
   "cell_type": "code",
   "execution_count": 401,
   "metadata": {},
   "outputs": [
    {
     "data": {
      "text/html": [
       "31"
      ],
      "text/latex": [
       "31"
      ],
      "text/markdown": [
       "31"
      ],
      "text/plain": [
       "[1] 31"
      ]
     },
     "metadata": {},
     "output_type": "display_data"
    },
    {
     "data": {
      "text/html": [
       "<ol class=list-inline>\n",
       "\t<li>375</li>\n",
       "\t<li>11</li>\n",
       "</ol>\n"
      ],
      "text/latex": [
       "\\begin{enumerate*}\n",
       "\\item 375\n",
       "\\item 11\n",
       "\\end{enumerate*}\n"
      ],
      "text/markdown": [
       "1. 375\n",
       "2. 11\n",
       "\n",
       "\n"
      ],
      "text/plain": [
       "[1] 375  11"
      ]
     },
     "metadata": {},
     "output_type": "display_data"
    },
    {
     "data": {
      "text/html": [
       "375"
      ],
      "text/latex": [
       "375"
      ],
      "text/markdown": [
       "375"
      ],
      "text/plain": [
       "[1] 375"
      ]
     },
     "metadata": {},
     "output_type": "display_data"
    }
   ],
   "source": [
    "##(1)---Diagnosis of leverage and influential observations----\n",
    "#1(a).To find leverage point and drop those using suitable threshold\n",
    "n=nrow(X_train);p=ncol(X_train)\n",
    "#thred is thethreshold above which the points are cosidered as leverage point \n",
    "thred=2*p/n   \n",
    "Htr=as.matrix(X_train%*%solve(t(X_train)%*%X_train)%*%t(X_train))\n",
    "h_ii=diag(Htr)\n",
    "indices=which(h_ii>thred) # 31 leverage points\n",
    "length(indices)\n",
    "#Removing the leverage point from data\n",
    "Y_train=Y_train[-indices]\n",
    "X_train=X_train[-indices,]\n",
    "#Observations left after removal of leverage point from training set\n",
    "dim(X_train);length(Y_train)\n"
   ]
  },
  {
   "cell_type": "code",
   "execution_count": 402,
   "metadata": {},
   "outputs": [
    {
     "data": {
      "text/html": [],
      "text/latex": [],
      "text/markdown": [],
      "text/plain": [
       "integer(0)"
      ]
     },
     "metadata": {},
     "output_type": "display_data"
    }
   ],
   "source": [
    "##COOK'S DISTANCE\n",
    "n=nrow(X_train);p=ncol(X_train)\n",
    "#'beta_hat1' is Least square solution after removal of leverage point \n",
    "beta_hat1=solve(t(X_train)%*%X_train)%*%t(X_train)%*%Y_train     \n",
    "#'Htr' is hat matrix\n",
    "Htr=X_train%*%solve(t(X_train)%*%X_train)%*%t(X_train)\n",
    "h=diag(Htr)\n",
    "Y_train_cap=X_train%*%beta_hat1\n",
    "res=Y_train-Y_train_cap\n",
    "MSres=sum(res^2)/(n-p)\n",
    "C=((res^2)*h)/(MSres*p*((1-h)^2))\n",
    "which(C>1) #indicates influential point \n",
    "#thus we do not get influential point as per Cook's Distance for this data #set"
   ]
  },
  {
   "cell_type": "code",
   "execution_count": 403,
   "metadata": {},
   "outputs": [
    {
     "data": {
      "text/html": [
       "28"
      ],
      "text/latex": [
       "28"
      ],
      "text/markdown": [
       "28"
      ],
      "text/plain": [
       "[1] 28"
      ]
     },
     "metadata": {},
     "output_type": "display_data"
    }
   ],
   "source": [
    "#DFFIT\n",
    "#'RSSi' vector of residual after removing ith obseravation from training data\n",
    "RSSi=sum(res^2)-(res^2/1-h)\n",
    "#'MSresi' Estimate of error variance after removing ith observation\n",
    "MSresi=RSSi/(n-1-p)\n",
    "#'DFFits' is change the predicted response after removing ith observation \n",
    "DFFits=(res*sqrt(h))/(sqrt(MSresi)*(1-h))\n",
    "# 'a' is Influencial observation on the basis of DFFits\n",
    "a=which(abs(DFFits)>2*sqrt(p/n))\n",
    "length(a)"
   ]
  },
  {
   "cell_type": "code",
   "execution_count": 404,
   "metadata": {},
   "outputs": [
    {
     "data": {
      "text/html": [
       "5"
      ],
      "text/latex": [
       "5"
      ],
      "text/markdown": [
       "5"
      ],
      "text/plain": [
       "[1] 5"
      ]
     },
     "metadata": {},
     "output_type": "display_data"
    }
   ],
   "source": [
    "#DFBETA\n",
    "DFBETAs_ji=matrix(data=NA,nrow=n,ncol=p-1)\n",
    "Cd=solve(t(X_train)%*%X_train)%*%t(X_train)\n",
    "for(j in 1:p-1)\n",
    "{\n",
    "  DFBETAs_ji[,j]=(Cd[j+1,]*res)/(sqrt(sum(Cd[j+1,]^2)*MSresi)*(1-h))\n",
    "}\n",
    "influence_DFBETA=NA\n",
    "for(j in 2:p)\n",
    "{\n",
    "  influence_DFBETA=c(influence_DFBETA ,which(abs(DFBETAs_ji[,j-1])>2/sqrt(n)) )\n",
    "} \n",
    "b = as.numeric (names (which( table(na.omit(influence_DFBETA))>=7 ) ) )\n",
    "length(b)\n",
    "# b is index of influential point based on DFBETAs_ji"
   ]
  },
  {
   "cell_type": "code",
   "execution_count": 405,
   "metadata": {},
   "outputs": [
    {
     "data": {
      "text/html": [
       "28"
      ],
      "text/latex": [
       "28"
      ],
      "text/markdown": [
       "28"
      ],
      "text/plain": [
       "[1] 28"
      ]
     },
     "metadata": {},
     "output_type": "display_data"
    }
   ],
   "source": [
    "#COVRATIO\n",
    "#cov_ratio helps to compare model accuracy when ith observation is removed \n",
    "#whether accuracy improved or not after removing the ith observation\n",
    "cov_ratio=(MSresi/MSres)^p/(1-h)\n",
    "#'c' is influential observation on the basis of cov_ratio\n",
    "c=which(abs(cov_ratio-1)>3*p/n)\n",
    "length(c)"
   ]
  },
  {
   "cell_type": "code",
   "execution_count": 406,
   "metadata": {},
   "outputs": [
    {
     "data": {
      "text/html": [
       "<ol class=list-inline>\n",
       "\t<li>5</li>\n",
       "\t<li>52</li>\n",
       "\t<li>113</li>\n",
       "\t<li>114</li>\n",
       "\t<li>128</li>\n",
       "\t<li>151</li>\n",
       "\t<li>164</li>\n",
       "\t<li>169</li>\n",
       "\t<li>191</li>\n",
       "\t<li>196</li>\n",
       "\t<li>207</li>\n",
       "\t<li>253</li>\n",
       "\t<li>269</li>\n",
       "\t<li>270</li>\n",
       "\t<li>271</li>\n",
       "\t<li>272</li>\n",
       "\t<li>273</li>\n",
       "\t<li>277</li>\n",
       "\t<li>280</li>\n",
       "\t<li>294</li>\n",
       "\t<li>296</li>\n",
       "\t<li>297</li>\n",
       "\t<li>299</li>\n",
       "\t<li>301</li>\n",
       "\t<li>302</li>\n",
       "\t<li>304</li>\n",
       "\t<li>342</li>\n",
       "\t<li>375</li>\n",
       "</ol>\n"
      ],
      "text/latex": [
       "\\begin{enumerate*}\n",
       "\\item 5\n",
       "\\item 52\n",
       "\\item 113\n",
       "\\item 114\n",
       "\\item 128\n",
       "\\item 151\n",
       "\\item 164\n",
       "\\item 169\n",
       "\\item 191\n",
       "\\item 196\n",
       "\\item 207\n",
       "\\item 253\n",
       "\\item 269\n",
       "\\item 270\n",
       "\\item 271\n",
       "\\item 272\n",
       "\\item 273\n",
       "\\item 277\n",
       "\\item 280\n",
       "\\item 294\n",
       "\\item 296\n",
       "\\item 297\n",
       "\\item 299\n",
       "\\item 301\n",
       "\\item 302\n",
       "\\item 304\n",
       "\\item 342\n",
       "\\item 375\n",
       "\\end{enumerate*}\n"
      ],
      "text/markdown": [
       "1. 5\n",
       "2. 52\n",
       "3. 113\n",
       "4. 114\n",
       "5. 128\n",
       "6. 151\n",
       "7. 164\n",
       "8. 169\n",
       "9. 191\n",
       "10. 196\n",
       "11. 207\n",
       "12. 253\n",
       "13. 269\n",
       "14. 270\n",
       "15. 271\n",
       "16. 272\n",
       "17. 273\n",
       "18. 277\n",
       "19. 280\n",
       "20. 294\n",
       "21. 296\n",
       "22. 297\n",
       "23. 299\n",
       "24. 301\n",
       "25. 302\n",
       "26. 304\n",
       "27. 342\n",
       "28. 375\n",
       "\n",
       "\n"
      ],
      "text/plain": [
       " [1]   5  52 113 114 128 151 164 169 191 196 207 253 269 270 271 272 273 277 280\n",
       "[20] 294 296 297 299 301 302 304 342 375"
      ]
     },
     "metadata": {},
     "output_type": "display_data"
    },
    {
     "data": {
      "text/html": [
       "<ol class=list-inline>\n",
       "\t<li>113</li>\n",
       "\t<li>114</li>\n",
       "\t<li>270</li>\n",
       "\t<li>271</li>\n",
       "\t<li>272</li>\n",
       "</ol>\n"
      ],
      "text/latex": [
       "\\begin{enumerate*}\n",
       "\\item 113\n",
       "\\item 114\n",
       "\\item 270\n",
       "\\item 271\n",
       "\\item 272\n",
       "\\end{enumerate*}\n"
      ],
      "text/markdown": [
       "1. 113\n",
       "2. 114\n",
       "3. 270\n",
       "4. 271\n",
       "5. 272\n",
       "\n",
       "\n"
      ],
      "text/plain": [
       "[1] 113 114 270 271 272"
      ]
     },
     "metadata": {},
     "output_type": "display_data"
    },
    {
     "data": {
      "text/html": [
       "<ol class=list-inline>\n",
       "\t<li>79</li>\n",
       "\t<li>104</li>\n",
       "\t<li>105</li>\n",
       "\t<li>106</li>\n",
       "\t<li>107</li>\n",
       "\t<li>108</li>\n",
       "\t<li>109</li>\n",
       "\t<li>113</li>\n",
       "\t<li>114</li>\n",
       "\t<li>128</li>\n",
       "\t<li>169</li>\n",
       "\t<li>253</li>\n",
       "\t<li>260</li>\n",
       "\t<li>261</li>\n",
       "\t<li>270</li>\n",
       "\t<li>271</li>\n",
       "\t<li>273</li>\n",
       "\t<li>282</li>\n",
       "\t<li>294</li>\n",
       "\t<li>296</li>\n",
       "\t<li>300</li>\n",
       "\t<li>301</li>\n",
       "\t<li>303</li>\n",
       "\t<li>309</li>\n",
       "\t<li>310</li>\n",
       "\t<li>319</li>\n",
       "\t<li>364</li>\n",
       "\t<li>375</li>\n",
       "</ol>\n"
      ],
      "text/latex": [
       "\\begin{enumerate*}\n",
       "\\item 79\n",
       "\\item 104\n",
       "\\item 105\n",
       "\\item 106\n",
       "\\item 107\n",
       "\\item 108\n",
       "\\item 109\n",
       "\\item 113\n",
       "\\item 114\n",
       "\\item 128\n",
       "\\item 169\n",
       "\\item 253\n",
       "\\item 260\n",
       "\\item 261\n",
       "\\item 270\n",
       "\\item 271\n",
       "\\item 273\n",
       "\\item 282\n",
       "\\item 294\n",
       "\\item 296\n",
       "\\item 300\n",
       "\\item 301\n",
       "\\item 303\n",
       "\\item 309\n",
       "\\item 310\n",
       "\\item 319\n",
       "\\item 364\n",
       "\\item 375\n",
       "\\end{enumerate*}\n"
      ],
      "text/markdown": [
       "1. 79\n",
       "2. 104\n",
       "3. 105\n",
       "4. 106\n",
       "5. 107\n",
       "6. 108\n",
       "7. 109\n",
       "8. 113\n",
       "9. 114\n",
       "10. 128\n",
       "11. 169\n",
       "12. 253\n",
       "13. 260\n",
       "14. 261\n",
       "15. 270\n",
       "16. 271\n",
       "17. 273\n",
       "18. 282\n",
       "19. 294\n",
       "20. 296\n",
       "21. 300\n",
       "22. 301\n",
       "23. 303\n",
       "24. 309\n",
       "25. 310\n",
       "26. 319\n",
       "27. 364\n",
       "28. 375\n",
       "\n",
       "\n"
      ],
      "text/plain": [
       " [1]  79 104 105 106 107 108 109 113 114 128 169 253 260 261 270 271 273 282 294\n",
       "[20] 296 300 301 303 309 310 319 364 375"
      ]
     },
     "metadata": {},
     "output_type": "display_data"
    },
    {
     "data": {
      "text/html": [
       "44"
      ],
      "text/latex": [
       "44"
      ],
      "text/markdown": [
       "44"
      ],
      "text/plain": [
       "[1] 44"
      ]
     },
     "metadata": {},
     "output_type": "display_data"
    },
    {
     "data": {
      "text/html": [
       "<ol class=list-inline>\n",
       "\t<li>5</li>\n",
       "\t<li>52</li>\n",
       "\t<li>113</li>\n",
       "\t<li>114</li>\n",
       "\t<li>128</li>\n",
       "\t<li>151</li>\n",
       "\t<li>164</li>\n",
       "\t<li>169</li>\n",
       "\t<li>191</li>\n",
       "\t<li>196</li>\n",
       "\t<li>207</li>\n",
       "\t<li>253</li>\n",
       "\t<li>269</li>\n",
       "\t<li>270</li>\n",
       "\t<li>271</li>\n",
       "\t<li>272</li>\n",
       "\t<li>273</li>\n",
       "\t<li>277</li>\n",
       "\t<li>280</li>\n",
       "\t<li>294</li>\n",
       "\t<li>296</li>\n",
       "\t<li>297</li>\n",
       "\t<li>299</li>\n",
       "\t<li>301</li>\n",
       "\t<li>302</li>\n",
       "\t<li>304</li>\n",
       "\t<li>342</li>\n",
       "\t<li>375</li>\n",
       "\t<li>79</li>\n",
       "\t<li>104</li>\n",
       "\t<li>105</li>\n",
       "\t<li>106</li>\n",
       "\t<li>107</li>\n",
       "\t<li>108</li>\n",
       "\t<li>109</li>\n",
       "\t<li>260</li>\n",
       "\t<li>261</li>\n",
       "\t<li>282</li>\n",
       "\t<li>300</li>\n",
       "\t<li>303</li>\n",
       "\t<li>309</li>\n",
       "\t<li>310</li>\n",
       "\t<li>319</li>\n",
       "\t<li>364</li>\n",
       "</ol>\n"
      ],
      "text/latex": [
       "\\begin{enumerate*}\n",
       "\\item 5\n",
       "\\item 52\n",
       "\\item 113\n",
       "\\item 114\n",
       "\\item 128\n",
       "\\item 151\n",
       "\\item 164\n",
       "\\item 169\n",
       "\\item 191\n",
       "\\item 196\n",
       "\\item 207\n",
       "\\item 253\n",
       "\\item 269\n",
       "\\item 270\n",
       "\\item 271\n",
       "\\item 272\n",
       "\\item 273\n",
       "\\item 277\n",
       "\\item 280\n",
       "\\item 294\n",
       "\\item 296\n",
       "\\item 297\n",
       "\\item 299\n",
       "\\item 301\n",
       "\\item 302\n",
       "\\item 304\n",
       "\\item 342\n",
       "\\item 375\n",
       "\\item 79\n",
       "\\item 104\n",
       "\\item 105\n",
       "\\item 106\n",
       "\\item 107\n",
       "\\item 108\n",
       "\\item 109\n",
       "\\item 260\n",
       "\\item 261\n",
       "\\item 282\n",
       "\\item 300\n",
       "\\item 303\n",
       "\\item 309\n",
       "\\item 310\n",
       "\\item 319\n",
       "\\item 364\n",
       "\\end{enumerate*}\n"
      ],
      "text/markdown": [
       "1. 5\n",
       "2. 52\n",
       "3. 113\n",
       "4. 114\n",
       "5. 128\n",
       "6. 151\n",
       "7. 164\n",
       "8. 169\n",
       "9. 191\n",
       "10. 196\n",
       "11. 207\n",
       "12. 253\n",
       "13. 269\n",
       "14. 270\n",
       "15. 271\n",
       "16. 272\n",
       "17. 273\n",
       "18. 277\n",
       "19. 280\n",
       "20. 294\n",
       "21. 296\n",
       "22. 297\n",
       "23. 299\n",
       "24. 301\n",
       "25. 302\n",
       "26. 304\n",
       "27. 342\n",
       "28. 375\n",
       "29. 79\n",
       "30. 104\n",
       "31. 105\n",
       "32. 106\n",
       "33. 107\n",
       "34. 108\n",
       "35. 109\n",
       "36. 260\n",
       "37. 261\n",
       "38. 282\n",
       "39. 300\n",
       "40. 303\n",
       "41. 309\n",
       "42. 310\n",
       "43. 319\n",
       "44. 364\n",
       "\n",
       "\n"
      ],
      "text/plain": [
       " [1]   5  52 113 114 128 151 164 169 191 196 207 253 269 270 271 272 273 277 280\n",
       "[20] 294 296 297 299 301 302 304 342 375  79 104 105 106 107 108 109 260 261 282\n",
       "[39] 300 303 309 310 319 364"
      ]
     },
     "metadata": {},
     "output_type": "display_data"
    },
    {
     "data": {
      "text/html": [
       "<ol class=list-inline>\n",
       "\t<li>331</li>\n",
       "\t<li>11</li>\n",
       "</ol>\n"
      ],
      "text/latex": [
       "\\begin{enumerate*}\n",
       "\\item 331\n",
       "\\item 11\n",
       "\\end{enumerate*}\n"
      ],
      "text/markdown": [
       "1. 331\n",
       "2. 11\n",
       "\n",
       "\n"
      ],
      "text/plain": [
       "[1] 331  11"
      ]
     },
     "metadata": {},
     "output_type": "display_data"
    },
    {
     "data": {
      "text/html": [
       "331"
      ],
      "text/latex": [
       "331"
      ],
      "text/markdown": [
       "331"
      ],
      "text/plain": [
       "[1] 331"
      ]
     },
     "metadata": {},
     "output_type": "display_data"
    }
   ],
   "source": [
    "# Now taking all of the unique influential observaion's we get on the basis #of DFFITs,DFBETA , COV RATIO\n",
    "a;b;c\n",
    "z=unique(c(a,b,c))\n",
    "length(z)\n",
    "z\n",
    "#Removing influential observation from the trainin data  \n",
    "Y_train=Y_train[-z]\n",
    "X_train=X_train[-z,]\n",
    "\n",
    "# observation left after removing leverage and influntial point from data\n",
    "dim(X_train);length(Y_train)"
   ]
  },
  {
   "cell_type": "code",
   "execution_count": 407,
   "metadata": {},
   "outputs": [
    {
     "data": {
      "image/png": "[encoded data removed]",
      "text/plain": [
       "Plot with title \"fig:1.1 Cook's Distance Plot\""
      ]
     },
     "metadata": {},
     "output_type": "display_data"
    }
   ],
   "source": [
    "#1(c)PLOTTING \n",
    "#Cook's distance plotting \n",
    "plot(C,xlim=c(0,380),xlab=\"sample points\",ylab=\"COOK'S DISTANCE\",main=\"fig:1.1 Cook's Distance Plot\",col=(C>1)+1,pch=20)\n"
   ]
  },
  {
   "cell_type": "code",
   "execution_count": 408,
   "metadata": {},
   "outputs": [
    {
     "data": {
      "image/png": "[encoded data removed]",
      "text/plain": [
       "Plot with title \"fig:1.2 DFFITs PLOT\""
      ]
     },
     "metadata": {},
     "output_type": "display_data"
    }
   ],
   "source": [
    "##DFFits plotting\n",
    "plot(DFFits,xlab='Observations',col=(DFFits>(2*sqrt(p/n)))+1,main='fig:1.2 DFFITs PLOT',pch=20)\n",
    "abline(h=2*sqrt(p/n),col='blue',lwd=2,lty='dotted')\n",
    "legend(\"topright\",c(\"Influential Point\",\"Non Influential Point\"),col=c(\"red\",\"black\"),lwd=0.2)\n"
   ]
  },
  {
   "cell_type": "code",
   "execution_count": 409,
   "metadata": {},
   "outputs": [
    {
     "data": {
      "image/png": "[encoded data removed]",
      "text/plain": [
       "Plot with title \"fig:1.3 COVRATIO PLOT\""
      ]
     },
     "metadata": {},
     "output_type": "display_data"
    }
   ],
   "source": [
    "##Covariance ratio plotting\n",
    "plot(cov_ratio,main=\"fig:1.3 COVRATIO PLOT\",col=(abs(cov_ratio-1)>3*p/n)+1, pch=20)\n",
    "abline(h=c( 3*p/n +1, -(3*p/n)+1) , col=\"red\", lwd=2, lty=\"dotted\")\n",
    "legend(\"bottomleft\",c(\"Influential Point\",\"Non Influential Point\"),col=c(\"red\",\"black\"),pch=20)"
   ]
  },
  {
   "cell_type": "code",
   "execution_count": 410,
   "metadata": {},
   "outputs": [
    {
     "data": {
      "text/html": [
       "5.90420028081228"
      ],
      "text/latex": [
       "5.90420028081228"
      ],
      "text/markdown": [
       "5.90420028081228"
      ],
      "text/plain": [
       "[1] 5.9042"
      ]
     },
     "metadata": {},
     "output_type": "display_data"
    },
    {
     "data": {
      "text/html": [
       "5.69827936493855"
      ],
      "text/latex": [
       "5.69827936493855"
      ],
      "text/markdown": [
       "5.69827936493855"
      ],
      "text/plain": [
       "[1] 5.698279"
      ]
     },
     "metadata": {},
     "output_type": "display_data"
    }
   ],
   "source": [
    "#1.(d) Calculating RMSE again \n",
    "#Least square solution after removing of leverage and influential point\n",
    "beta_hat2=solve(t(X_train)%*%X_train)%*%t(X_train)%*%Y_train   \n",
    "# estimated value of the  mean housing price of testing data \n",
    "Y_test_cap=X_test%*%beta_hat1          \n",
    "#RMSE Value of the testing the datasets\n",
    "RMSE_new=sqrt(sum((Y_test-Y_test_cap)^2))/sqrt(length(Y_test))\n",
    "RMSE;RMSE_new\n",
    "if(RMSE_new<RMSE){RMSE=RMSE_new}\n",
    "#RMSE_new is less than RMSE .so , the effect of leverage and Outliers is #diagnoised successfully."
   ]
  },
  {
   "cell_type": "code",
   "execution_count": 411,
   "metadata": {},
   "outputs": [
    {
     "data": {
      "image/png": "[encoded data removed]",
      "text/plain": [
       "plot without title"
      ]
     },
     "metadata": {},
     "output_type": "display_data"
    }
   ],
   "source": [
    "##(2)---Dealing-with-curvatures-------------------------------------\n",
    "#2(a)\n",
    "n=nrow(X_train) ; p=ncol(X_train)\n",
    "res=(Y_train-X_train%*%beta_hat2)\n",
    "par(mfrow=c(2,(p-1)/2))\n",
    "for(i in 2:ncol(X_train))\n",
    "{\n",
    "  plot(X_train[,i],res,xlab=colnames(X_train)[i],ylab=\"res\",col='royalblue',pch=20)\n",
    "}\n",
    "mtext(\"fig:2.1 Residual versus regressor plot\",line=-2 ,outer=TRUE)\n",
    "#from the observation of res v\\s regresor plot we seem \"rm\" not to be #linearly related with E(y)"
   ]
  },
  {
   "cell_type": "code",
   "execution_count": 412,
   "metadata": {},
   "outputs": [
    {
     "data": {
      "image/png": "[encoded data removed]",
      "text/plain": [
       "Plot with title \"fig:2.3 Augmented Partial Residual plot\""
      ]
     },
     "metadata": {},
     "output_type": "display_data"
    }
   ],
   "source": [
    "#2(b)Plotting 'rm' regressor with CPR(component plus residual)\n",
    "par(mfrow=c(1,2))\n",
    "l=which(colnames(X_train)==\"rm\")\n",
    "#'cpr' is the component plus residual \n",
    "cpr=res+beta_hat2[l]*X_train[,l]\n",
    "#plotting the 'rm' V\\S CPR\n",
    "plot(X_train[,l],cpr,xlab=\"rm\",ylab=\"partial residual\",cex.main=0.85,main=\"fig:2.2 Component plus residual\",col=\"blue\")\n",
    "#Setting for drawing slope in 'rm' V/s cpr plot\n",
    "Y_train_new=cpr\n",
    "X_train_new=cbind(rep(1,n),X_train[,l])\n",
    "coef=solve(t(X_train_new)%*%X_train_new)%*%t(X_train_new)%*%Y_train_new\n",
    "abline(a=coef[1],b=coef[2],col=\"red\")\n",
    "\n",
    "#plotting 'rm' with APR(Augmented Partial Residual )   \n",
    "X_train_apr=cbind(X_train,X_train[,l]^2)\n",
    "Y_train_apr=Y_train\n",
    "beta_hat_apr=solve(t(X_train_apr)%*%X_train_apr)%*%t(X_train_apr)%*%Y_train_apr\n",
    "res_apr=Y_train_apr-X_train_apr%*%beta_hat_apr\n",
    "apr=res_apr+beta_hat_apr[l]*X_train[,l]+beta_hat_apr[length(beta_hat_apr)]*(X_train[,l]^2)\n",
    "plot(X_train[,l],apr,cex.main=0.75,\n",
    "     main=\"fig:2.3 Augmented Partial Residual plot\",xlab=\"rm\",\n",
    "     ylab=\"augmented residual\", col=\"blue\")\n",
    "#Setting for drawing slope in 'rm' V/S APR(Augmented Partial Residual) Plot\n",
    "Y_train_apr=apr\n",
    "X_train_apr=cbind(rep(1,n),X_train[,l])\n",
    "coef=solve(t(X_train_apr)%*%X_train_apr)%*%t(X_train_apr)%*%Y_train_apr\n",
    "abline(a=coef[1],b=coef[2],col=\"red\")\n"
   ]
  },
  {
   "cell_type": "code",
   "execution_count": 413,
   "metadata": {},
   "outputs": [],
   "source": [
    "#2(c)Observing CPR and APR plot. We suggest that the exponential #transformation is needed for the regressor 'rm'\n",
    "#Our transformed model for 'rm' is  g(x)=beta0*exp(beta1*Xtr_rm)\n",
    "#Fitting the transformed model \n",
    "X_train_rm=cbind(rep(1,n),X_train[,l])\n",
    "Y_train_rm=Y_train\n",
    "beta_hat_rm=solve(t(X_train_rm)%*%X_train_rm)%*%t(X_train_rm)%*% log(Y_train_rm)\n",
    "trans_rm= exp(beta_hat_rm[1])*exp(beta_hat_rm[2]*X_train[,l])"
   ]
  },
  {
   "cell_type": "code",
   "execution_count": 414,
   "metadata": {},
   "outputs": [
    {
     "data": {
      "text/html": [
       "0.62897561170451"
      ],
      "text/latex": [
       "0.62897561170451"
      ],
      "text/markdown": [
       "0.62897561170451"
      ],
      "text/plain": [
       "[1] 0.6289756"
      ]
     },
     "metadata": {},
     "output_type": "display_data"
    },
    {
     "data": {
      "text/html": [
       "0.68533919263494"
      ],
      "text/latex": [
       "0.68533919263494"
      ],
      "text/markdown": [
       "0.68533919263494"
      ],
      "text/plain": [
       "[1] 0.6853392"
      ]
     },
     "metadata": {},
     "output_type": "display_data"
    },
    {
     "data": {
      "text/html": [
       "<ol class=list-inline>\n",
       "\t<li>'intercept'</li>\n",
       "\t<li>'crim'</li>\n",
       "\t<li>'indus'</li>\n",
       "\t<li>'nox'</li>\n",
       "\t<li>'transformed_rm'</li>\n",
       "\t<li>'age'</li>\n",
       "\t<li>'dis'</li>\n",
       "\t<li>'tax'</li>\n",
       "\t<li>'ptratio'</li>\n",
       "\t<li>'black'</li>\n",
       "\t<li>'lstat'</li>\n",
       "</ol>\n"
      ],
      "text/latex": [
       "\\begin{enumerate*}\n",
       "\\item 'intercept'\n",
       "\\item 'crim'\n",
       "\\item 'indus'\n",
       "\\item 'nox'\n",
       "\\item 'transformed\\_rm'\n",
       "\\item 'age'\n",
       "\\item 'dis'\n",
       "\\item 'tax'\n",
       "\\item 'ptratio'\n",
       "\\item 'black'\n",
       "\\item 'lstat'\n",
       "\\end{enumerate*}\n"
      ],
      "text/markdown": [
       "1. 'intercept'\n",
       "2. 'crim'\n",
       "3. 'indus'\n",
       "4. 'nox'\n",
       "5. 'transformed_rm'\n",
       "6. 'age'\n",
       "7. 'dis'\n",
       "8. 'tax'\n",
       "9. 'ptratio'\n",
       "10. 'black'\n",
       "11. 'lstat'\n",
       "\n",
       "\n"
      ],
      "text/plain": [
       " [1] \"intercept\"      \"crim\"           \"indus\"          \"nox\"           \n",
       " [5] \"transformed_rm\" \"age\"            \"dis\"            \"tax\"           \n",
       " [9] \"ptratio\"        \"black\"          \"lstat\"         "
      ]
     },
     "metadata": {},
     "output_type": "display_data"
    }
   ],
   "source": [
    "\n",
    "##2(d). to find partial coefficient between Ytrain and \"rm\" of Xtrain\n",
    "X_train_dd=X_train[,-l]\n",
    "uu=lm(Y_train~X_train_dd)\n",
    "res1=uu$residuals\n",
    "vv=lm(X_train[,l]~X_train_dd)\n",
    "res2=vv$residuals\n",
    "#Correlation coefficient without any transformation\n",
    "par_Cor=cor(res1,res2)\n",
    "par_Cor\n",
    "## to find partial coefficient between Ytrain and g(x)\n",
    "ww=lm( trans_rm ~X_train_dd)\n",
    "res2=ww$residuals\n",
    "#Correlation coefficient after transformation\n",
    "par_Cor_trans= cor(res1,res2)\n",
    "par_Cor_trans\n",
    "##there is increase in  correlation coefficient ,\n",
    "#thus we keep the  transformation of 'rm' and conclude that linearity has #improved\n",
    "#Replacing the transformed 'rm' with 'rm' in train dataset\n",
    "X_train[,l]=trans_rm\n",
    "colnames(X_train)[l]='transformed_rm'\n",
    "colnames(X_train)\n",
    "#Estimated coefficient after transformation of model fit \n",
    "beta_hat=solve(t(X_train)%*%X_train)%*%t(X_train)%*% Y_train\n",
    "#Replacing the transformed 'rm' with 'rm' in train dataset\n",
    "Xts1=X_test\n",
    "Xts1[,l]= exp(beta_hat_rm[1])* exp(beta_hat_rm[2]*X_test[,l])\n",
    "X_test=Xts1"
   ]
  },
  {
   "cell_type": "code",
   "execution_count": 415,
   "metadata": {},
   "outputs": [
    {
     "data": {
      "text/html": [
       "5.12848510306469"
      ],
      "text/latex": [
       "5.12848510306469"
      ],
      "text/markdown": [
       "5.12848510306469"
      ],
      "text/plain": [
       "[1] 5.128485"
      ]
     },
     "metadata": {},
     "output_type": "display_data"
    },
    {
     "data": {
      "text/html": [
       "5.69827936493855"
      ],
      "text/latex": [
       "5.69827936493855"
      ],
      "text/markdown": [
       "5.69827936493855"
      ],
      "text/plain": [
       "[1] 5.698279"
      ]
     },
     "metadata": {},
     "output_type": "display_data"
    },
    {
     "data": {
      "text/html": [
       "5.12848510306469"
      ],
      "text/latex": [
       "5.12848510306469"
      ],
      "text/markdown": [
       "5.12848510306469"
      ],
      "text/plain": [
       "[1] 5.128485"
      ]
     },
     "metadata": {},
     "output_type": "display_data"
    }
   ],
   "source": [
    "#2(e)\n",
    "RSS= sum((Y_test-X_test%*%beta_hat)^2)\n",
    "#Calculation of RMSE after transformation of 'rm'\n",
    "RMSE_trans=sqrt(RSS/length(Y_test))\n",
    "RMSE_trans ; RMSE\n",
    "if(RMSE_trans<RMSE){RMSE=RMSE_trans}\n",
    "RMSE\n",
    "#from the result we get that RMSE_trans is less than RMSE .\n",
    "#thus transformation has  improved linearity of the residual . "
   ]
  },
  {
   "cell_type": "code",
   "execution_count": 416,
   "metadata": {},
   "outputs": [
    {
     "data": {
      "image/png": "[encoded data removed]",
      "text/plain": [
       "plot without title"
      ]
     },
     "metadata": {},
     "output_type": "display_data"
    }
   ],
   "source": [
    "##(3)---Dealing with problem of Hetroscedasticity------------\n",
    "#3(a)\n",
    "res=(Y_train-X_train%*%beta_hat)\n",
    "par(mfrow=c(2,(p-1)/2))\n",
    "for(i in 2:p)\n",
    "{\n",
    "  plot(X_train[,i],res,xlab=colnames(X_train)[i],ylab=\"residual\", pch=20, col=\"blue\")\n",
    "}\n",
    "mtext(\"fig:3.1 Residual V/S regressor plot\",line=-2 ,outer=TRUE)"
   ]
  },
  {
   "cell_type": "code",
   "execution_count": 417,
   "metadata": {},
   "outputs": [
    {
     "data": {
      "image/png": "[encoded data removed]",
      "text/plain": [
       "Plot with title \"fig:3.2 fitted values V/S residuals\""
      ]
     },
     "metadata": {},
     "output_type": "display_data"
    }
   ],
   "source": [
    "Y_train_cap=X_train%*%beta_hat\n",
    "plot(Y_train_cap,res,xlab=\"fitted values\",ylab=\"residual\",main=\"fig:3.2 fitted values V/S residuals\",col=\"red\",pch=20)\n",
    "\n",
    "# Examining the plot of residuals V/S regressor and residual V/S fitted #values,we claim that crim, indus, age, dis, tax, black produce #heteroscedasticity"
   ]
  },
  {
   "cell_type": "code",
   "execution_count": 418,
   "metadata": {},
   "outputs": [
    {
     "name": "stdout",
     "output_type": "stream",
     "text": [
      "         [,1]\n",
      "[1,] 16.44206\n",
      "[1] 12.59159\n",
      "[1] \"reject H0:(homoscedasticity assumption)\"\n"
     ]
    }
   ],
   "source": [
    "\n",
    "#3(b) Performing Breusch Pagan Test to test the heteroscedasticity claim    #Ho: Error variance are homoscedastic in nature\n",
    "#H1: Error variance are Heteroscedastic in nature\n",
    "di=(n*res^2)/sum(res^2)\n",
    "Ztr=X_train[,which(colnames(X_train)=='intercept'|colnames(X_train)=='crim'|colnames(X_train)=='indus'|colnames(X_train)=='age'|\n",
    "                     colnames(X_train)=='dis'| colnames(X_train)=='tax'|colnames(X_train)=='black')]\n",
    "di_hat=Ztr%*% solve(t(Ztr)%*%Ztr) %*% t(Ztr)%*%di\n",
    "R_2=(cov(di,di_hat))^2/(var(di)*var(di_hat))\n",
    "#Test Stastic under the assumption of null hypothesis\n",
    "Q=n*R_2\n",
    "print(Q)\n",
    "#Critical Value\n",
    "c= qchisq(0.95,6)\n",
    "print(c)\n",
    "#Decision Rule\n",
    "if(Q>c) print(\"reject H0:(homoscedasticity assumption)\") else\n",
    "  print(\"accept H0:(homoscedasticity assumption)\")"
   ]
  },
  {
   "cell_type": "code",
   "execution_count": 419,
   "metadata": {},
   "outputs": [
    {
     "data": {
      "text/html": [
       "5.12848510306469"
      ],
      "text/latex": [
       "5.12848510306469"
      ],
      "text/markdown": [
       "5.12848510306469"
      ],
      "text/plain": [
       "[1] 5.128485"
      ]
     },
     "metadata": {},
     "output_type": "display_data"
    },
    {
     "data": {
      "text/html": [
       "5.1062283446925"
      ],
      "text/latex": [
       "5.1062283446925"
      ],
      "text/markdown": [
       "5.1062283446925"
      ],
      "text/plain": [
       "[1] 5.106228"
      ]
     },
     "metadata": {},
     "output_type": "display_data"
    },
    {
     "name": "stdout",
     "output_type": "stream",
     "text": [
      "RMSE after heteroscedasticity diagnostic 5.106228"
     ]
    }
   ],
   "source": [
    "#3(c)\n",
    "#As test rejects the homoscedastic assumption .\n",
    "#Performing Iterative method to estimate the coefficients\n",
    "\n",
    "I=0\n",
    "beta_hat=solve(t(X_train)%*%X_train)%*%(t(X_train)%*%Y_train)\n",
    "res=Y_train- X_train%*%beta_hat\n",
    "alpha= solve(t(Ztr)%*% Ztr) %*%t(Ztr)%*% res^2\n",
    "alpha_1=NA\n",
    "repeat{\n",
    "  beta_hat_aux=beta_hat\n",
    "  alpha_1= alpha\n",
    "  sig= Ztr %*% alpha_1\n",
    "  sigma=diag(as.vector(sig))\n",
    "  beta_hat=solve(t(X_train)%*% solve(sigma) %*%X_train)%*% t(X_train)%*% solve(sigma)%*% Y_train\n",
    "  res= Y_train- X_train%*%beta_hat\n",
    "  alpha= solve(t(Ztr)%*% Ztr) %*%t(Ztr)%*% res^2\n",
    "  I=I+1\n",
    "  if((sum((beta_hat_aux-beta_hat)^2)<=0.1 & sum((alpha_1-alpha)^2)<=0.1)| I>200)\n",
    "  {      break   }\n",
    "}\n",
    "#3(d)Calculating fitted model coefficient after removing the effect of #heteroscedasticity with transformation\n",
    "RSS= sum((Y_test-X_test%*%beta_hat)^2)\n",
    "RMSE_new=sqrt(RSS/length(Y_test))\n",
    "RMSE; RMSE_new\n",
    "# decrease in RMSE\n",
    "if(RMSE_new<RMSE){RMSE=RMSE_new}\n",
    "cat(\"RMSE after heteroscedasticity diagnostic\",RMSE)\n"
   ]
  },
  {
   "cell_type": "code",
   "execution_count": 420,
   "metadata": {},
   "outputs": [
    {
     "data": {
      "text/plain": [
       "\n",
       "\tShapiro-Wilk normality test\n",
       "\n",
       "data:  Y_train\n",
       "W = 0.9669, p-value = 7.45e-07\n"
      ]
     },
     "metadata": {},
     "output_type": "display_data"
    },
    {
     "data": {
      "image/png": "[encoded data removed]",
      "text/plain": [
       "Plot with title \"fig:4.1 Q-Q Plot \""
      ]
     },
     "metadata": {},
     "output_type": "display_data"
    }
   ],
   "source": [
    "##(4)---Diagnosing the normality assumption--------------------\n",
    "#4(a)\n",
    "#qq.plot() function can plot quantile quantile plot\n",
    "#input variable is predictor matrix and response vector \n",
    "qq.plot=function(Z,y,text)    \n",
    "{\n",
    "  n=nrow(Z)\n",
    "  p=ncol(Z)-1\n",
    "  H=Z%*%solve(t(Z)%*%Z)%*%t(Z) \n",
    "  #predicted value of y\n",
    "  y_cap=H%*%y\n",
    "  #vector of residuals\n",
    "  res=y-y_cap   \n",
    "  RSS=sum(res^2)  \n",
    "  RSS_i=rep(0,n)  \n",
    "  for(i in 1:n)\n",
    "  {\n",
    "    RSS_i[i]=RSS-((res[i]^2)/(1-H[i,i]))\n",
    "  }\n",
    "  #'r_i' is R-Studentized residuals\n",
    "  r_i=rep(0,n)    \n",
    "  for(i in 1:n)\n",
    "  {\n",
    "    r_i[i]=res[i]/(sqrt(RSS_i[i]*(1-H[i,i])/(n-p-1)))\n",
    "  }\n",
    "  #ordered R-Student residuals\n",
    "  r_i.ord=sort(r_i)  \n",
    "  #'p_i' is vector of population quantiles of t(n-p-1) distn \n",
    "  p_i=rep(0,n)  \n",
    "  for(i in 1:n)\n",
    "  {\n",
    "    p_i[i]=qt(i/n,n-p-1)\n",
    "  }\n",
    "  plot(p_i,r_i.ord,pch=20,main=text,xlab=\"Population quantiles\",ylab=\"Sample quantiles\")\n",
    "  #straight line with intercept 0, slope 1 drawn to make inferences\n",
    "  abline(a=0,b=1)\n",
    "}\n",
    "qq.plot(X_train,Y_train,\"fig:4.1 Q-Q Plot \")\n",
    "shapiro.test(Y_train)\n"
   ]
  },
  {
   "cell_type": "code",
   "execution_count": 421,
   "metadata": {},
   "outputs": [
    {
     "data": {
      "text/html": [],
      "text/latex": [],
      "text/markdown": [],
      "text/plain": [
       "named numeric(0)"
      ]
     },
     "metadata": {},
     "output_type": "display_data"
    },
    {
     "data": {
      "text/html": [
       "0.600000000000001"
      ],
      "text/latex": [
       "0.600000000000001"
      ],
      "text/markdown": [
       "0.600000000000001"
      ],
      "text/plain": [
       "[1] 0.6"
      ]
     },
     "metadata": {},
     "output_type": "display_data"
    },
    {
     "data": {
      "image/png": "[encoded data removed]",
      "text/plain": [
       "Plot with title \"fig:4.2 likelihood as funcn of lambda\""
      ]
     },
     "metadata": {},
     "output_type": "display_data"
    }
   ],
   "source": [
    "#Looking at the qq plot we find that all the points are not in straight line \n",
    "#So, Performing Box-Cox transformation. So, normality assumption of error is not verified \n",
    "#4(b)Box-Cox Transformation\n",
    "Y_train[which(Y_train<0)]    \n",
    "## all values are positive\n",
    "lamda=seq(from=-5, to=5, by=0.1)\n",
    "Y_trans= NA\n",
    "lik_fun=NA\n",
    "for( i in 1:length(lamda))\n",
    "{\n",
    "  lam=lamda[i]\n",
    "  if(lam!=0)\n",
    "  {  Y_trans= (Y_train^lam - rep(1,times=n))/lam  }else\n",
    "  {  Y_trans= log(Y_train)  }\n",
    "  beta_hat_trans= solve(t(X_train)%*%X_train) %*% t(X_train)%*%Y_trans\n",
    "  lik_fun[i]=-(n/2)*( log(2*pi) +log(sum((Y_trans-X_train%*%beta_hat_trans)^2)/n)+1) +\n",
    "    (lam-1)* sum(log(Y_train))\n",
    "}\n",
    "plot(x=lamda, y=lik_fun, xlab = \"lambda\", ylab=\"L(lambda)\", pch=20,main=\"fig:4.2 likelihood as funcn of lambda\")\n",
    "\n",
    "lam= lamda[which(lik_fun==max(lik_fun))]\n",
    "lam\n",
    "abline(v= lam, col=\"red\", lty=\"dotted\", lwd=2)\n"
   ]
  },
  {
   "cell_type": "code",
   "execution_count": 422,
   "metadata": {},
   "outputs": [
    {
     "data": {
      "text/plain": [
       "\n",
       "\tShapiro-Wilk normality test\n",
       "\n",
       "data:  ytrain_aux\n",
       "W = 0.98727, p-value = 0.005239\n"
      ]
     },
     "metadata": {},
     "output_type": "display_data"
    },
    {
     "data": {
      "image/png": "[encoded data removed]",
      "text/plain": [
       "Plot with title \"fig:4.3 Q-Q plot after Box Cox transformation\""
      ]
     },
     "metadata": {},
     "output_type": "display_data"
    }
   ],
   "source": [
    "ytrain_aux= (Y_train^lam - rep(1,times=n))/lam\n",
    "shapiro.test(ytrain_aux)\n",
    "qq.plot(X_train, ytrain_aux,'fig:4.3 Q-Q plot after Box Cox transformation')"
   ]
  },
  {
   "cell_type": "code",
   "execution_count": 423,
   "metadata": {},
   "outputs": [],
   "source": [
    "## normality assumption seems to have improved as thus obtained plot is closer to ideal situation. \n",
    "## thus we keep the transformation\n",
    "Y_train= ytrain_aux"
   ]
  },
  {
   "cell_type": "code",
   "execution_count": 424,
   "metadata": {},
   "outputs": [
    {
     "data": {
      "text/html": [
       "4.92408466866607"
      ],
      "text/latex": [
       "4.92408466866607"
      ],
      "text/markdown": [
       "4.92408466866607"
      ],
      "text/plain": [
       "[1] 4.924085"
      ]
     },
     "metadata": {},
     "output_type": "display_data"
    }
   ],
   "source": [
    "model=lm(Y_train~X_train[,-1])\n",
    "coefficient=matrix(model$coefficients,nrow=length(model$coefficients),ncol=1)\n",
    "Y=X_test%*%coefficient\n",
    "Ynew=(0.6*Y+1)^(1/0.6)\n",
    "RMSE_final=sqrt(sum((Y_test-Ynew)^2)/length(Y_test))\n",
    "RMSE_final\n",
    "#------------------------ THE END--------------------------------"
   ]
  },
  {
   "cell_type": "code",
   "execution_count": null,
   "metadata": {},
   "outputs": [],
   "source": []
  },
  {
   "cell_type": "code",
   "execution_count": null,
   "metadata": {},
   "outputs": [],
   "source": []
  },
  {
   "cell_type": "code",
   "execution_count": null,
   "metadata": {},
   "outputs": [],
   "source": []
  },
  {
   "cell_type": "code",
   "execution_count": null,
   "metadata": {},
   "outputs": [],
   "source": []
  }
 ],
 "metadata": {
  "kernelspec": {
   "display_name": "R",
   "language": "R",
   "name": "ir"
  },
  "language_info": {
   "codemirror_mode": "r",
   "file_extension": ".r",
   "mimetype": "text/x-r-source",
   "name": "R",
   "pygments_lexer": "r",
   "version": "3.6.1"
  }
 },
 "nbformat": 4,
 "nbformat_minor": 4
}
